{
  "nbformat": 4,
  "nbformat_minor": 0,
  "metadata": {
    "colab": {
      "provenance": [],
      "authorship_tag": "ABX9TyOlJ28LAvkIEanLqGmp+45u",
      "include_colab_link": true
    },
    "kernelspec": {
      "name": "python3",
      "display_name": "Python 3"
    },
    "accelerator": "GPU"
  },
  "cells": [
    {
      "cell_type": "markdown",
      "metadata": {
        "id": "view-in-github",
        "colab_type": "text"
      },
      "source": [
        "<a href=\"https://colab.research.google.com/github/dptmej0308/solux-2020-summer-web-study/blob/master/Untitled0.ipynb\" target=\"_parent\"><img src=\"https://colab.research.google.com/assets/colab-badge.svg\" alt=\"Open In Colab\"/></a>"
      ]
    },
    {
      "cell_type": "code",
      "metadata": {
        "id": "OCRA8XS-pNyW",
        "outputId": "6abe076b-2740-4642-b9cb-a83e45e98f4d",
        "colab": {
          "base_uri": "https://localhost:8080/"
        }
      },
      "source": [
        "from google.colab import drive\n",
        "drive.mount('/content/gdrive')\n",
        "\n",
        "!ls /content/gdrive -la\n",
        "!ls /content/gdrive/'My Drive'/deeplearning -la\n",
        "!cp /content/gdrive/'My Drive'/deeplearning/dogs-vs-cats.zip .\n",
        "!ls"
      ],
      "execution_count": null,
      "outputs": [
        {
          "output_type": "stream",
          "text": [
            "Drive already mounted at /content/gdrive; to attempt to forcibly remount, call drive.mount(\"/content/gdrive\", force_remount=True).\n",
            "total 16\n",
            "dr-x------ 2 root root 4096 Nov  5 04:39  .file-revisions-by-id\n",
            "drwx------ 3 root root 4096 Nov  5 04:39 'My Drive'\n",
            "dr-x------ 2 root root 4096 Nov  5 04:39  .shortcut-targets-by-id\n",
            "drwx------ 2 root root 4096 Nov  5 04:39  .Trash\n",
            "total 22111\n",
            "-rw------- 1 root root 22639284 Nov  5 04:33 dogs-vs-cats.zip\n",
            "-rw------- 1 root root     1411 Nov  5 04:43 Untitled0.ipynb\n",
            "dogs-vs-cats.zip  gdirve  gdrive  sample_data\n"
          ],
          "name": "stdout"
        }
      ]
    }
  ]
}